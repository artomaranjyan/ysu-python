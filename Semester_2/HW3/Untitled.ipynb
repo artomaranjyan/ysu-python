{
 "cells": [
  {
   "cell_type": "markdown",
   "id": "67c088d4",
   "metadata": {},
   "source": [
    "## Problem 1\n",
    "\n",
    "Use adapter pattern and classes of your choice. Create a structure where you have 1-2 adaptees that have a method that returns some text in spanish. Have an adapter which will have a method that translates the text to english. Have examples of the usage of your class structure."
   ]
  },
  {
   "cell_type": "code",
   "execution_count": 2,
   "id": "960f8f75",
   "metadata": {
    "scrolled": true
   },
   "outputs": [
    {
     "name": "stdout",
     "output_type": "stream",
     "text": [
      "Collecting googletrans==3.1.0a0\n",
      "  Using cached googletrans-3.1.0a0-py3-none-any.whl\n",
      "Requirement already satisfied: httpx==0.13.3 in c:\\anaconda\\lib\\site-packages (from googletrans==3.1.0a0) (0.13.3)\n",
      "Requirement already satisfied: idna==2.* in c:\\anaconda\\lib\\site-packages (from httpx==0.13.3->googletrans==3.1.0a0) (2.10)\n",
      "Requirement already satisfied: rfc3986<2,>=1.3 in c:\\anaconda\\lib\\site-packages (from httpx==0.13.3->googletrans==3.1.0a0) (1.5.0)\n",
      "Requirement already satisfied: sniffio in c:\\anaconda\\lib\\site-packages (from httpx==0.13.3->googletrans==3.1.0a0) (1.2.0)\n",
      "Requirement already satisfied: hstspreload in c:\\anaconda\\lib\\site-packages (from httpx==0.13.3->googletrans==3.1.0a0) (2021.12.1)\n",
      "Requirement already satisfied: chardet==3.* in c:\\anaconda\\lib\\site-packages (from httpx==0.13.3->googletrans==3.1.0a0) (3.0.4)\n",
      "Requirement already satisfied: httpcore==0.9.* in c:\\anaconda\\lib\\site-packages (from httpx==0.13.3->googletrans==3.1.0a0) (0.9.1)\n",
      "Requirement already satisfied: certifi in c:\\anaconda\\lib\\site-packages (from httpx==0.13.3->googletrans==3.1.0a0) (2021.10.8)\n",
      "Requirement already satisfied: h11<0.10,>=0.8 in c:\\anaconda\\lib\\site-packages (from httpcore==0.9.*->httpx==0.13.3->googletrans==3.1.0a0) (0.9.0)\n",
      "Requirement already satisfied: h2==3.* in c:\\anaconda\\lib\\site-packages (from httpcore==0.9.*->httpx==0.13.3->googletrans==3.1.0a0) (3.2.0)\n",
      "Requirement already satisfied: hpack<4,>=3.0 in c:\\anaconda\\lib\\site-packages (from h2==3.*->httpcore==0.9.*->httpx==0.13.3->googletrans==3.1.0a0) (3.0.0)\n",
      "Requirement already satisfied: hyperframe<6,>=5.2.0 in c:\\anaconda\\lib\\site-packages (from h2==3.*->httpcore==0.9.*->httpx==0.13.3->googletrans==3.1.0a0) (5.2.0)\n",
      "Installing collected packages: googletrans\n",
      "Successfully installed googletrans-3.1.0a0\n"
     ]
    }
   ],
   "source": [
    "# !pip3 install googletrans==3.1.0a0"
   ]
  },
  {
   "cell_type": "code",
   "execution_count": 8,
   "id": "86384212",
   "metadata": {},
   "outputs": [
    {
     "name": "stdout",
     "output_type": "stream",
     "text": [
      "Input spanish senter.Hola bonita senorita\n",
      "Hola bonita senorita (es) --> Hello pretty lady (en)\n"
     ]
    }
   ],
   "source": [
    "from googletrans import Translator as tr\n",
    "from pprint import pprint\n",
    "\n",
    "import abc\n",
    " \n",
    " \n",
    "class Translator(metaclass=abc.ABCMeta):\n",
    "    \"\"\"\n",
    "    Define the domain-specific interface that Client uses.\n",
    "    \"\"\"\n",
    " \n",
    "    def __init__(self):\n",
    "        self.adaptee = Adaptee()\n",
    " \n",
    "    @abc.abstractmethod\n",
    "    def translate(self):\n",
    "        pass\n",
    " \n",
    " \n",
    "class Adapter(Translator):\n",
    "    \"\"\"\n",
    "    Adapt the interface of Adaptee to the Target interface.\n",
    "    \"\"\"\n",
    " \n",
    "    def translate(self):\n",
    "        translator = tr()\n",
    "        \n",
    "        translation = translator.translate(self.adaptee.spenish_sentence(), src='es')\n",
    "        print(f\"{translation.origin} ({translation.src}) --> {translation.text} ({translation.dest})\") \n",
    " \n",
    "class Adaptee:\n",
    "    \"\"\"\n",
    "    Define an existing interface that needs adapting.\n",
    "    \"\"\"\n",
    " \n",
    "    def spenish_sentence(self):\n",
    "        return input('Input spanish senter.')\n",
    " \n",
    " \n",
    "adapter = Adapter()\n",
    "adapter.translate()"
   ]
  },
  {
   "cell_type": "markdown",
   "id": "10fc0e3e",
   "metadata": {},
   "source": [
    "## Problem 3\n",
    "Use singleton pattern and classes of your choice. Create a structure where you have some resource that has states busy and free and 3 users that try to use the resource and change the state to busy while they are using it. The resource should be singleton. Implement using 2 different methods for singleton implementation that we have discussed. "
   ]
  },
  {
   "cell_type": "markdown",
   "id": "07dfb2a4",
   "metadata": {},
   "source": [
    "### Borg method"
   ]
  },
  {
   "cell_type": "code",
   "execution_count": 19,
   "id": "eda01df1",
   "metadata": {
    "scrolled": true
   },
   "outputs": [
    {
     "name": "stdout",
     "output_type": "stream",
     "text": [
      "busy\n",
      "Printer is turned on!\n",
      "free\n",
      "free\n",
      "Printer is turned off!\n",
      "busy\n",
      "busy\n",
      "busy\n",
      "Printer is turned on!\n",
      "Printed 0 pages, remains 3.\n",
      "Printed 1 pages, remains 2.\n",
      "Printed 2 pages, remains 1.\n",
      "Finished. Printer is free now!\n",
      "Printer is turned off!\n"
     ]
    },
    {
     "ename": "Exception",
     "evalue": "Printer now is busy, you should waite or turn on the printer.",
     "output_type": "error",
     "traceback": [
      "\u001b[1;31m---------------------------------------------------------------------------\u001b[0m",
      "\u001b[1;31mException\u001b[0m                                 Traceback (most recent call last)",
      "\u001b[1;32m~\\AppData\\Local\\Temp/ipykernel_20108/4103840041.py\u001b[0m in \u001b[0;36m<module>\u001b[1;34m\u001b[0m\n\u001b[0;32m     45\u001b[0m \u001b[0mp2\u001b[0m\u001b[1;33m.\u001b[0m\u001b[0mprint_document\u001b[0m\u001b[1;33m(\u001b[0m\u001b[1;36m3\u001b[0m\u001b[1;33m)\u001b[0m\u001b[1;33m\u001b[0m\u001b[1;33m\u001b[0m\u001b[0m\n\u001b[0;32m     46\u001b[0m \u001b[0mp3\u001b[0m\u001b[1;33m.\u001b[0m\u001b[0mshut_down\u001b[0m\u001b[1;33m(\u001b[0m\u001b[1;33m)\u001b[0m\u001b[1;33m\u001b[0m\u001b[1;33m\u001b[0m\u001b[0m\n\u001b[1;32m---> 47\u001b[1;33m \u001b[0mp1\u001b[0m\u001b[1;33m.\u001b[0m\u001b[0mprint_document\u001b[0m\u001b[1;33m(\u001b[0m\u001b[1;36m2\u001b[0m\u001b[1;33m)\u001b[0m\u001b[1;33m\u001b[0m\u001b[1;33m\u001b[0m\u001b[0m\n\u001b[0m",
      "\u001b[1;32m~\\AppData\\Local\\Temp/ipykernel_20108/4103840041.py\u001b[0m in \u001b[0;36mprint_document\u001b[1;34m(self, pages)\u001b[0m\n\u001b[0;32m     13\u001b[0m     \u001b[1;32mdef\u001b[0m \u001b[0mprint_document\u001b[0m\u001b[1;33m(\u001b[0m\u001b[0mself\u001b[0m\u001b[1;33m,\u001b[0m \u001b[0mpages\u001b[0m\u001b[1;33m)\u001b[0m\u001b[1;33m:\u001b[0m\u001b[1;33m\u001b[0m\u001b[1;33m\u001b[0m\u001b[0m\n\u001b[0;32m     14\u001b[0m         \u001b[1;32mif\u001b[0m \u001b[1;33m(\u001b[0m\u001b[0mself\u001b[0m\u001b[1;33m.\u001b[0m\u001b[0mstate\u001b[0m \u001b[1;33m==\u001b[0m \u001b[1;34m'busy'\u001b[0m\u001b[1;33m)\u001b[0m\u001b[1;33m:\u001b[0m\u001b[1;33m\u001b[0m\u001b[1;33m\u001b[0m\u001b[0m\n\u001b[1;32m---> 15\u001b[1;33m             \u001b[1;32mraise\u001b[0m \u001b[0mException\u001b[0m \u001b[1;33m(\u001b[0m\u001b[1;34m'Printer now is busy, you should waite or turn on the printer.'\u001b[0m\u001b[1;33m)\u001b[0m\u001b[1;33m\u001b[0m\u001b[1;33m\u001b[0m\u001b[0m\n\u001b[0m\u001b[0;32m     16\u001b[0m \u001b[1;33m\u001b[0m\u001b[0m\n\u001b[0;32m     17\u001b[0m         \u001b[0mself\u001b[0m\u001b[1;33m.\u001b[0m\u001b[0mstate\u001b[0m \u001b[1;33m=\u001b[0m \u001b[1;34m'busy'\u001b[0m\u001b[1;33m\u001b[0m\u001b[1;33m\u001b[0m\u001b[0m\n",
      "\u001b[1;31mException\u001b[0m: Printer now is busy, you should waite or turn on the printer."
     ]
    }
   ],
   "source": [
    "import time \n",
    "\n",
    "class Printer:\n",
    "  \n",
    "    # state shared by each instance\n",
    "    __shared_state = dict()\n",
    "    \n",
    "    # constructor method\n",
    "    def __init__(self):\n",
    "        self.__dict__ = self.__shared_state #stores class attributes\n",
    "        self.state= 'busy'\n",
    "        \n",
    "    def print_document(self, pages):\n",
    "        if (self.state == 'busy'):\n",
    "            raise Exception ('Printer now is busy, you should waite or turn on the printer.')\n",
    "        \n",
    "        self.state = 'busy'\n",
    "        for i in range(pages):\n",
    "            print(f'Printed {i} pages, remains {pages-i}.')\n",
    "            time.sleep(1)\n",
    "        self.state = 'free'\n",
    "        print(f'Finished. Printer is free now!')\n",
    "        \n",
    "    def shut_down(self):\n",
    "        print('Printer is turned off!')\n",
    "        self.state = 'busy'\n",
    "        \n",
    "    def turn_on(self):\n",
    "        print('Printer is turned on!')\n",
    "        self.state = 'free'\n",
    "  \n",
    "p1 = Printer()\n",
    "p2 = Printer()\n",
    "p3 = Printer()\n",
    "\n",
    "print(p1.state)\n",
    "p2.turn_on()\n",
    "print(p1.state)\n",
    "print(p2.state)\n",
    "p3.shut_down()\n",
    "print(p1.state)\n",
    "print(p2.state)\n",
    "print(p3.state)\n",
    "p1.turn_on()\n",
    "p2.print_document(3)\n",
    "p3.shut_down()\n",
    "p1.print_document(2)"
   ]
  },
  {
   "cell_type": "markdown",
   "id": "ca35936c",
   "metadata": {},
   "source": [
    "### Classic implementation"
   ]
  },
  {
   "cell_type": "code",
   "execution_count": 21,
   "id": "9743cdde",
   "metadata": {},
   "outputs": [
    {
     "name": "stdout",
     "output_type": "stream",
     "text": [
      "Printer is turned on!\n",
      "Printed 0 pages, remains 3.\n",
      "Printed 1 pages, remains 2.\n",
      "Printed 2 pages, remains 1.\n",
      "Finished. Printer is free now!\n"
     ]
    },
    {
     "ename": "Exception",
     "evalue": "We only have one printer :D",
     "output_type": "error",
     "traceback": [
      "\u001b[1;31m---------------------------------------------------------------------------\u001b[0m",
      "\u001b[1;31mException\u001b[0m                                 Traceback (most recent call last)",
      "\u001b[1;32m~\\AppData\\Local\\Temp/ipykernel_20108/3826929338.py\u001b[0m in \u001b[0;36m<module>\u001b[1;34m\u001b[0m\n\u001b[0;32m     43\u001b[0m \u001b[0mprinter\u001b[0m\u001b[1;33m.\u001b[0m\u001b[0mprint_document\u001b[0m\u001b[1;33m(\u001b[0m\u001b[1;36m3\u001b[0m\u001b[1;33m)\u001b[0m\u001b[1;33m\u001b[0m\u001b[1;33m\u001b[0m\u001b[0m\n\u001b[0;32m     44\u001b[0m \u001b[1;33m\u001b[0m\u001b[0m\n\u001b[1;32m---> 45\u001b[1;33m \u001b[0mp2\u001b[0m \u001b[1;33m=\u001b[0m \u001b[0mPrinter\u001b[0m\u001b[1;33m(\u001b[0m\u001b[1;33m)\u001b[0m\u001b[1;33m\u001b[0m\u001b[1;33m\u001b[0m\u001b[0m\n\u001b[0m",
      "\u001b[1;32m~\\AppData\\Local\\Temp/ipykernel_20108/3826929338.py\u001b[0m in \u001b[0;36m__init__\u001b[1;34m(self)\u001b[0m\n\u001b[0;32m     14\u001b[0m \u001b[1;33m\u001b[0m\u001b[0m\n\u001b[0;32m     15\u001b[0m         \u001b[1;32mif\u001b[0m \u001b[0mPrinter\u001b[0m\u001b[1;33m.\u001b[0m\u001b[0m__shared_instance\u001b[0m \u001b[1;33m!=\u001b[0m \u001b[1;34m'initial_state'\u001b[0m\u001b[1;33m:\u001b[0m\u001b[1;33m\u001b[0m\u001b[1;33m\u001b[0m\u001b[0m\n\u001b[1;32m---> 16\u001b[1;33m             \u001b[1;32mraise\u001b[0m \u001b[0mException\u001b[0m \u001b[1;33m(\u001b[0m\u001b[1;34m\"We only have one printer :D\"\u001b[0m\u001b[1;33m)\u001b[0m\u001b[1;33m\u001b[0m\u001b[1;33m\u001b[0m\u001b[0m\n\u001b[0m\u001b[0;32m     17\u001b[0m         \u001b[1;32melse\u001b[0m\u001b[1;33m:\u001b[0m\u001b[1;33m\u001b[0m\u001b[1;33m\u001b[0m\u001b[0m\n\u001b[0;32m     18\u001b[0m             \u001b[0mPrinter\u001b[0m\u001b[1;33m.\u001b[0m\u001b[0m__shared_instance\u001b[0m \u001b[1;33m=\u001b[0m \u001b[0mself\u001b[0m\u001b[1;33m\u001b[0m\u001b[1;33m\u001b[0m\u001b[0m\n",
      "\u001b[1;31mException\u001b[0m: We only have one printer :D"
     ]
    }
   ],
   "source": [
    "class Printer:\n",
    "  \n",
    "    __shared_instance = 'initial_state'\n",
    "  \n",
    "    @staticmethod\n",
    "    def getInstance():\n",
    "  \n",
    "        \"\"\"Static Access Method\"\"\"\n",
    "        if Printer.__shared_instance == 'initial_state':\n",
    "            Printer()\n",
    "        return Printer.__shared_instance\n",
    "  \n",
    "    def __init__(self):\n",
    "  \n",
    "        if Printer.__shared_instance != 'initial_state':\n",
    "            raise Exception (\"We only have one printer :D\")\n",
    "        else:\n",
    "            Printer.__shared_instance = self\n",
    "            self.state = 'busy'\n",
    "  \n",
    "    def print_document(self, pages):\n",
    "        if (self.state == 'busy'):\n",
    "            raise Exception ('Printer now is busy, you should waite or turn on the printer.')\n",
    "        \n",
    "        self.state = 'busy'\n",
    "        for i in range(pages):\n",
    "            print(f'Printed {i} pages, remains {pages-i}.')\n",
    "            time.sleep(1)\n",
    "        self.state = 'free'\n",
    "        print(f'Finished. Printer is free now!')\n",
    "        \n",
    "    def shut_down(self):\n",
    "        print('Printer is turned off!')\n",
    "        self.state = 'busy'\n",
    "        \n",
    "    def turn_on(self):\n",
    "        print('Printer is turned on!')\n",
    "        self.state = 'free'\n",
    "\n",
    "# create object of Singleton Class\n",
    "printer = Printer()\n",
    "printer.turn_on()\n",
    "printer.print_document(3)\n",
    "\n",
    "p2 = Printer()"
   ]
  }
 ],
 "metadata": {
  "kernelspec": {
   "display_name": "Python 3 (ipykernel)",
   "language": "python",
   "name": "python3"
  },
  "language_info": {
   "codemirror_mode": {
    "name": "ipython",
    "version": 3
   },
   "file_extension": ".py",
   "mimetype": "text/x-python",
   "name": "python",
   "nbconvert_exporter": "python",
   "pygments_lexer": "ipython3",
   "version": "3.9.7"
  }
 },
 "nbformat": 4,
 "nbformat_minor": 5
}
