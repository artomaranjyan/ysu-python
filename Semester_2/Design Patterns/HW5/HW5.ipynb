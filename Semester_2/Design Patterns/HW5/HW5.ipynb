{
 "cells": [
  {
   "cell_type": "markdown",
   "id": "6fce2e23",
   "metadata": {},
   "source": [
    "## Problem 1\n",
    "\n",
    "```\n",
    "Create a Person class which will have attributes Name, Last Name, Email and Age. Use the Decorator pattern and any additional classes of your choice to implement the following logic:\n",
    "If the Person is a child (age<14), s/he wants the information about them printed as follows: *** &&& Name - Last Name - Email &&& ***. Otherwise, print the information like this: &&& Name - Last Name - Email &&&.  \n",
    "```"
   ]
  },
  {
   "cell_type": "code",
   "execution_count": 9,
   "id": "b4c71d2f",
   "metadata": {},
   "outputs": [
    {
     "name": "stdout",
     "output_type": "stream",
     "text": [
      "Enter your name: Arto\n",
      "Enter your surname: Maranjyan\n",
      "Enter your age: 22\n",
      "Enter your email: arto.maranjyan@gmail.com\n",
      "&&& Arto - Maranjyan - arto.maranjyan@gmail.com &&&\n"
     ]
    }
   ],
   "source": [
    "class Person:\n",
    "    \n",
    "    def __init__(self, name, surname, age, email):\n",
    "        self.name = name\n",
    "        self.surname = surname\n",
    "        self.age = age\n",
    "        self.email = email\n",
    "    \n",
    "    def __str__(self):\n",
    "        return f\" {self.name} - {self.surname} - {self.email} \"\n",
    "  \n",
    "class Child(Person):\n",
    "    \n",
    "    def __init__(self, person: Person):\n",
    "        self._person = person\n",
    "  \n",
    "    def __str__(self):\n",
    "        return f\"***{self._person}***\"\n",
    "  \n",
    "class Adult(Person):\n",
    "  \n",
    "    def __init__(self, person: Person):\n",
    "        self._person = person\n",
    "  \n",
    "    def __str__(self):\n",
    "        return f\"&&&{self._person}&&&\"\n",
    "\n",
    "name = input(\"Enter your name: \")\n",
    "surname = input(\"Enter your surname: \")\n",
    "age = int(input(\"Enter your age: \"))\n",
    "email = input(\"Enter your email: \")\n",
    "\n",
    "you = Person(name, surname, age, email)\n",
    "if age < 14:\n",
    "    you = Child(you)\n",
    "else: you = Adult(you)\n",
    "\n",
    "print(you)"
   ]
  },
  {
   "cell_type": "markdown",
   "id": "31dbf944",
   "metadata": {},
   "source": [
    "## Problem 3\n",
    "\n",
    "```\n",
    "Suppose that you want to order some food with a delivery. Use Facade Design Pattern and classes of your choice to simulate a scenario of ordering using an application, you can have a dispatcher, a restaurant, a delivery guy and other actors of your choice. The most important thing is that you should have some method which will organize the priority of the steps that need to be taken when you order the delivery and will \"ask\" the right parties to do their job. This should happen without intervention of the client.\n",
    "```"
   ]
  },
  {
   "cell_type": "code",
   "execution_count": 16,
   "id": "52ac3e91",
   "metadata": {},
   "outputs": [
    {
     "name": "stdout",
     "output_type": "stream",
     "text": [
      "Enter the restaurant name you want to order from: Lavash\n",
      "Enter your order (food1, food2, ...): pasta\n",
      "Enter your address: Mars 1/1\n",
      "We cant deliver from Lavash resturant, sorry (\n",
      "Enter the restaurant name you want to order from: Sherep\n",
      "Enter your order (food1, food2, ...): pasta, pizza\n",
      "Enter your address: Mars 1/1\n",
      "Sorry the Sherep resturant can't make your order (\n",
      "Enter the restaurant name you want to order from: Limone Cascade\n",
      "Enter your order (food1, food2, ...): pasta, pizza\n",
      "Enter your address: Mars 1/1\n",
      "['pasta', 'pizza'] is delivered to Mars 1/1\n"
     ]
    }
   ],
   "source": [
    "class DeliveryService:\n",
    "    '''Facade'''\n",
    "\n",
    "    def __init__(self, name, restaurants):\n",
    "        self.name = name\n",
    "        self.dispetcher = Dispetcher()\n",
    "        self.restaurants = restaurants\n",
    "        self.delivery_guy = DeliveryGuy()\n",
    "        \n",
    "    def order(self):\n",
    "        restaurant_name, order, address = self.dispetcher.get_order()\n",
    "        \n",
    "        restaurant = 0\n",
    "        for r in self.restaurants:\n",
    "            if r.name == restaurant_name:\n",
    "                restaurant = r\n",
    "        if not restaurant:\n",
    "            print(f'We cant deliver from {restaurant_name} resturant, sorry (')\n",
    "            return\n",
    "            \n",
    "        try:\n",
    "            restaurant.make_order(order)\n",
    "        except:\n",
    "            print(f\"Sorry the {restaurant.name} resturant can't make your order (\")\n",
    "            return\n",
    "        \n",
    "        self.delivery_guy.get_order(restaurant, order)\n",
    "        self.delivery_guy.deliver(address)\n",
    "        \n",
    "        \n",
    "class Dispetcher:\n",
    "    \n",
    "    def get_order(self):\n",
    "        restaurant_name = input('Enter the restaurant name you want to order from: ')\n",
    "        order = input('Enter your order (food1, food2, ...): ').split(', ')\n",
    "        address = input('Enter your address: ')\n",
    "        \n",
    "        return restaurant_name, order, address\n",
    "    \n",
    "class Restaurant:\n",
    "  \n",
    "    def __init__(self, name, menu, address):\n",
    "        self.name = name\n",
    "        self.menu = menu\n",
    "        self.address = address\n",
    "        \n",
    "    def make_order(self, order):\n",
    "        for i in order:\n",
    "            if i not in self.menu:\n",
    "                raise Exception()\n",
    "        \n",
    "        # make order\n",
    "    \n",
    "class DeliveryGuy:\n",
    "    \n",
    "    def get_order(self, restaurant, order):\n",
    "        self.order = order\n",
    "        \n",
    "    def deliver(self, address):\n",
    "        print(f'{self.order} is delivered to {address}')\n",
    "        del self.order \n",
    "        \n",
    "        \n",
    "sherep = Restaurant(name = 'Sherep', menu = ['dolma', 'stake'], address = '1 Amiryan St')\n",
    "limone = Restaurant(name = 'Limone Cascade', menu = ['pizza', 'pasta'], address = 'Tamanyan 3/81')\n",
    "\n",
    "glovo = DeliveryService(name = 'Glovo', restaurants = [sherep, limone])\n",
    "\n",
    "glovo.order()\n",
    "glovo.order()\n",
    "glovo.order()"
   ]
  }
 ],
 "metadata": {
  "kernelspec": {
   "display_name": "Python 3 (ipykernel)",
   "language": "python",
   "name": "python3"
  },
  "language_info": {
   "codemirror_mode": {
    "name": "ipython",
    "version": 3
   },
   "file_extension": ".py",
   "mimetype": "text/x-python",
   "name": "python",
   "nbconvert_exporter": "python",
   "pygments_lexer": "ipython3",
   "version": "3.9.7"
  }
 },
 "nbformat": 4,
 "nbformat_minor": 5
}
