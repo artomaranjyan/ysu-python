{
 "cells": [
  {
   "cell_type": "markdown",
   "id": "ee519727",
   "metadata": {},
   "source": [
    "# Problem 1\n",
    "You know that each BankAccount object has attributes id, balance and rate. Use builder pattern\n",
    "and any extra classes and methods that you may need to realize the creation of a BankAccount type\n",
    "object. Create some objects and do some operations to test your classes."
   ]
  },
  {
   "cell_type": "code",
   "execution_count": 17,
   "id": "c9ac2c9a",
   "metadata": {
    "scrolled": true
   },
   "outputs": [
    {
     "name": "stdout",
     "output_type": "stream",
     "text": [
      "IDBank account for client Arto Maranjyan successfully created!\n",
      "card with USD currency successfully activated!\n",
      "5000 USD deposite successfully opened!\n",
      "account_id:  9294768044\n"
     ]
    }
   ],
   "source": [
    "from abc import ABC, abstractmethod\n",
    "import random\n",
    "import string\n",
    "\n",
    "class BankAccountBuilder(ABC):\n",
    "    \n",
    "    @abstractmethod\n",
    "    def create_account(self):\n",
    "        pass\n",
    "    \n",
    "\n",
    "class IDBankAccountBuilder(BankAccountBuilder):\n",
    "    \n",
    "    def create_account(self, name, surname):\n",
    "        account_id = self.get_account_id() # get id which is not used by someone else\n",
    "        self.account = BankAccount(name, surname, account_id)\n",
    "        print(f'IDBank account for client {name} {surname} successfully created!')\n",
    "         \n",
    "    def get_account_id(self):\n",
    "        return ''.join(random.choice(string.digits) for i in range(10))\n",
    "        \n",
    "    def add_card(self, currency):\n",
    "        self.account.add_card(currency, cashback = 1) # different cashback in different banks\n",
    "\n",
    "    def add_deposit(self, amount, currency):\n",
    "        self.account.add_deposit(amount, currency, rate = 8) # different rate in different banks\n",
    "    \n",
    "\n",
    "class BankAccount():\n",
    "\n",
    "    def __init__(self, name, surname, account_id):\n",
    "        self.name = name\n",
    "        self.surname = surname\n",
    "        self.account_id = account_id\n",
    "\n",
    "    def add_card(self, currency, cashback):\n",
    "        print(f'card with {currency} currency successfully activated!')\n",
    "\n",
    "    def add_deposit(self, amount, currency, rate):\n",
    "        print(f'{amount} {currency} deposite successfully opened!')\n",
    "\n",
    "\n",
    "builder = IDBankAccountBuilder()\n",
    "builder.create_account('Arto', 'Maranjyan')\n",
    "builder.add_card('USD')\n",
    "builder.add_deposit(5000, 'USD')\n",
    "print('account_id: ', builder.account.account_id)"
   ]
  },
  {
   "cell_type": "markdown",
   "id": "42344d5f",
   "metadata": {},
   "source": [
    "# Problem 2\n",
    "Use prototype design pattern and classes of your choice. create an abstract class Shape and\n",
    "concrete classes extending the Shape class: Circle, Square and Rectangle. Define a class\n",
    "ShapeCache which stores shape objects in a dictionary and returns their clones when\n",
    "requested. Create some objects and do some operations to test your classes."
   ]
  },
  {
   "cell_type": "code",
   "execution_count": 20,
   "id": "012f54d2",
   "metadata": {},
   "outputs": [
    {
     "data": {
      "image/png": "[encoded data removed]",
      "text/plain": [
       "<Figure size 360x360 with 1 Axes>"
      ]
     },
     "metadata": {
      "needs_background": "light"
     },
     "output_type": "display_data"
    },
    {
     "data": {
      "image/png": "[encoded data removed]",
      "text/plain": [
       "<Figure size 360x360 with 1 Axes>"
      ]
     },
     "metadata": {
      "needs_background": "light"
     },
     "output_type": "display_data"
    },
    {
     "data": {
      "image/png": "[encoded data removed]",
      "text/plain": [
       "<Figure size 360x360 with 1 Axes>"
      ]
     },
     "metadata": {
      "needs_background": "light"
     },
     "output_type": "display_data"
    }
   ],
   "source": [
    "import copy\n",
    "import numpy as np\n",
    "import matplotlib.pyplot as plt  \n",
    "from abc import ABCMeta, abstractmethod  \n",
    "  \n",
    "class Shape(metaclass = ABCMeta):\n",
    "\n",
    "    @abstractmethod\n",
    "    def draw(self):\n",
    "        pass\n",
    "    \n",
    "    def get_id(self):\n",
    "        return self.id\n",
    "  \n",
    "    def set_id(self, sid):\n",
    "        self.id = sid    \n",
    "    \n",
    "    def clone(self):\n",
    "        return copy.copy(self)\n",
    "    \n",
    "class Circle(Shape):\n",
    "    \n",
    "    def draw(self):\n",
    "        fig, ax = plt.subplots(figsize=(5,5))\n",
    "        ax.add_patch(plt.Circle((0.5, 0.5), 0.2, color='red'))\n",
    "\n",
    "class Square(Shape):\n",
    "    \n",
    "    def draw(self):\n",
    "        fig, ax = plt.subplots(figsize=(5,5))\n",
    "        ax.add_patch(plt.Rectangle((0.3, 0.3), 0.4, 0.4, color = 'red'))\n",
    "        \n",
    "class Triangle(Shape):\n",
    "    \n",
    "    def draw(self):\n",
    "        fig, ax = plt.subplots(figsize=(5,5))\n",
    "        pts = np.array([[0.3,0.3], [0.7,0.3], [0.5,0.7]])\n",
    "        ax.add_patch(plt.Polygon(pts, closed=False, color = 'red'))\n",
    "  \n",
    "\n",
    "class ShapeCache:\n",
    "    cache = {}\n",
    "  \n",
    "    @staticmethod\n",
    "    def get_shape(sid):\n",
    "        SHAPE = ShapeCache.cache.get(sid, None)\n",
    "\n",
    "        return SHAPE.clone() \n",
    "  \n",
    "    @staticmethod\n",
    "    def load():\n",
    "        circle = Circle()\n",
    "        circle.set_id(\"1\")\n",
    "        ShapeCache.cache[circle.get_id()] = circle\n",
    "  \n",
    "        square = Square()\n",
    "        square.set_id(\"2\")\n",
    "        ShapeCache.cache[square.get_id()] = square\n",
    "    \n",
    "        triangle = Triangle()\n",
    "        triangle.set_id(\"3\")\n",
    "        ShapeCache.cache[triangle.get_id()] = triangle\n",
    "  \n",
    "ShapeCache.load()\n",
    "\n",
    "circle = ShapeCache.get_shape(\"1\")\n",
    "circle.draw()\n",
    "\n",
    "square = ShapeCache.get_shape(\"2\")\n",
    "square.draw()\n",
    "\n",
    "triangle = ShapeCache.get_shape(\"3\")\n",
    "triangle.draw()"
   ]
  }
 ],
 "metadata": {
  "kernelspec": {
   "display_name": "Python 3 (ipykernel)",
   "language": "python",
   "name": "python3"
  },
  "language_info": {
   "codemirror_mode": {
    "name": "ipython",
    "version": 3
   },
   "file_extension": ".py",
   "mimetype": "text/x-python",
   "name": "python",
   "nbconvert_exporter": "python",
   "pygments_lexer": "ipython3",
   "version": "3.9.7"
  }
 },
 "nbformat": 4,
 "nbformat_minor": 5
}
