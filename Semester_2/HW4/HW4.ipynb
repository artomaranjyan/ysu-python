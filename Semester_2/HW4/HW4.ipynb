{
 "cells": [
  {
   "cell_type": "markdown",
   "id": "5c37c0c9",
   "metadata": {},
   "source": [
    "## Problem 1\n",
    "\n",
    "```\n",
    "Let say you want to send a message to someone. You have 2 options - you can Email the message or SMS the message to the corresponding person. So, you have two options to send the message and the client side code will use one of the implementations to send the message to the corresponding person. Use Bridge Design Pattern to implement the logic with classes of your choice and make sure to test the implementation with some concrete objects.\n",
    "```"
   ]
  },
  {
   "cell_type": "code",
   "execution_count": 1,
   "id": "188d59fe",
   "metadata": {},
   "outputs": [
    {
     "name": "stdout",
     "output_type": "stream",
     "text": [
      "Hola, chica! \n",
      "Message sent to Arpi via Email!\n",
      "¿Cómo estás? \n",
      "Message sent to Arpi via SMS!\n"
     ]
    }
   ],
   "source": [
    "from abc import ABC, abstractmethod\n",
    "\n",
    "class Messenger(ABC):\n",
    " \n",
    "    @abstractmethod\n",
    "    def send(self):\n",
    "        pass\n",
    "\n",
    "class Email(Messenger):\n",
    "  \n",
    "    def send(self, recipient, text):\n",
    " \n",
    "        print(f'{text} \\nMessage sent to {recipient.name} via Email!')\n",
    " \n",
    "class SMS(Messenger):\n",
    "  \n",
    "    def send(self, recipient, text):\n",
    " \n",
    "        print(f'{text} \\nMessage sent to {recipient.name} via SMS!')\n",
    " \n",
    "class Message:\n",
    " \n",
    "    def __init__(self, recipient, text, messenger):\n",
    " \n",
    "        self.recipient = recipient\n",
    "        self.text = text\n",
    "\n",
    "        self.messenger = messenger\n",
    "    \n",
    "    def send(self):\n",
    "        self.messenger.send(self.recipient, self.text)\n",
    " \n",
    " \n",
    "class Contact():\n",
    "    \n",
    "    def __init__(self, name, email, phone_number):\n",
    "        self.name = name\n",
    "        self.email = email\n",
    "        self.phone_number = phone_number\n",
    "    \n",
    " \n",
    "arpi = Contact('Arpi', 'arpi.surname@gmail.com', '0123456789') \n",
    "m1 = Message(recipient=arpi, text='Hola, chica!', messenger=Email())\n",
    "m1.send()\n",
    "\n",
    "m2 = Message(recipient=arpi, text='¿Cómo estás?', messenger=SMS())\n",
    "m2.send()"
   ]
  },
  {
   "cell_type": "markdown",
   "id": "9c4b43f1",
   "metadata": {},
   "source": [
    "## Problem 2\n",
    "\n",
    "```\n",
    "Follow the diagram below and use Composite Design Pattern to implement and test the logic. Add any other classes of your choice. The top of your hierchy will be the box which will contain Instrument Collection which will contain instruments. \n",
    "```"
   ]
  },
  {
   "attachments": {
    "photo_2022-03-06_23-08-52.jpg": {
     "image/jpeg": "[encoded data removed]"
    }
   },
   "cell_type": "markdown",
   "id": "e299ed07",
   "metadata": {},
   "source": [
    "![photo_2022-03-06_23-08-52.jpg](attachment:photo_2022-03-06_23-08-52.jpg)"
   ]
  },
  {
   "cell_type": "code",
   "execution_count": 2,
   "id": "7ef1dca4",
   "metadata": {},
   "outputs": [
    {
     "name": "stdout",
     "output_type": "stream",
     "text": [
      "Using instrument Pen!\n",
      "Using instrument Pencil!\n",
      "Using instrument Rubber!\n",
      "\n",
      "Using instrument Pen!\n",
      "Using instrument Rubber!\n",
      "\n",
      "Using instrument Pen!\n",
      "Using instrument Pencil!\n",
      "Using instrument Pen!\n",
      "Using instrument Rubber!\n"
     ]
    }
   ],
   "source": [
    "class Instrument:\n",
    "    \n",
    "    def __init__(self, name):\n",
    "        \n",
    "        self.name = name\n",
    "        \n",
    "    def use(self):\n",
    "        \n",
    "        print(f'Using instrument {self.name}!')\n",
    "  \n",
    "  \n",
    "class Box:\n",
    "  \n",
    "    def __init__(self):\n",
    "\n",
    "        self.items = []\n",
    "  \n",
    "    def add(self, *items):\n",
    "  \n",
    "        self.items.extend(items)\n",
    "  \n",
    "    def remove(self, item):\n",
    "\n",
    "        self.items.remove(item)\n",
    "        \n",
    "    def use(self):\n",
    "        \n",
    "        for i in self.items:\n",
    "            i.use()\n",
    "            \n",
    "  \n",
    "instrument_collection = Box()\n",
    "pen1 = Instrument('Pen')\n",
    "pencil1 = Instrument('Pencil')\n",
    "rubber1 = Instrument('Rubber')\n",
    "instrument_collection.add(pen1, pencil1, rubber1)\n",
    "instrument_collection.use()\n",
    "print()\n",
    "\n",
    "box = Box()\n",
    "pen2 = Instrument('Pen')\n",
    "rubber2 = Instrument('Rubber')\n",
    "box.add(pen2, rubber2)\n",
    "box.use()\n",
    "print()\n",
    "\n",
    "instrument_collection.remove(rubber1)\n",
    "instrument_collection.add(box)\n",
    "instrument_collection.use()"
   ]
  }
 ],
 "metadata": {
  "kernelspec": {
   "display_name": "Python 3 (ipykernel)",
   "language": "python",
   "name": "python3"
  },
  "language_info": {
   "codemirror_mode": {
    "name": "ipython",
    "version": 3
   },
   "file_extension": ".py",
   "mimetype": "text/x-python",
   "name": "python",
   "nbconvert_exporter": "python",
   "pygments_lexer": "ipython3",
   "version": "3.9.7"
  }
 },
 "nbformat": 4,
 "nbformat_minor": 5
}
